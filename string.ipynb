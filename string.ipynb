{
 "cells": [
  {
   "cell_type": "code",
   "execution_count": 4,
   "id": "f8b892e1-5c44-4e4d-b441-189d6c45c14e",
   "metadata": {},
   "outputs": [
    {
     "name": "stdout",
     "output_type": "stream",
     "text": [
      "python\n"
     ]
    }
   ],
   "source": [
    "#string\n",
    "str1 = \"python\"\n",
    "print(str1)"
   ]
  },
  {
   "cell_type": "code",
   "execution_count": 5,
   "id": "37525a5e-fc52-4769-85b0-8f49ea159589",
   "metadata": {},
   "outputs": [
    {
     "data": {
      "text/plain": [
       "str"
      ]
     },
     "execution_count": 5,
     "metadata": {},
     "output_type": "execute_result"
    }
   ],
   "source": [
    "type(str1)"
   ]
  },
  {
   "cell_type": "code",
   "execution_count": 6,
   "id": "f73b99e4-5580-4af6-b2d2-99d246d68068",
   "metadata": {},
   "outputs": [
    {
     "name": "stdout",
     "output_type": "stream",
     "text": [
      "Hello\n"
     ]
    }
   ],
   "source": [
    "#comment\n",
    "str1 = '''Hello'''\n",
    "print(str1)"
   ]
  },
  {
   "cell_type": "code",
   "execution_count": 7,
   "id": "dc8b321a-6390-43dd-b534-f9671e652b16",
   "metadata": {},
   "outputs": [
    {
     "name": "stdout",
     "output_type": "stream",
     "text": [
      "Hi, Welcome\n",
      "        This is multiline comment in python.\n"
     ]
    }
   ],
   "source": [
    "#multiline comment\n",
    "str1 = \"\"\"Hi, Welcome\n",
    "        This is multiline comment in python.\"\"\"\n",
    "print(str1)"
   ]
  },
  {
   "cell_type": "code",
   "execution_count": 9,
   "id": "79d281d0-cdc5-4ca3-b38a-4e616dcdad11",
   "metadata": {},
   "outputs": [
    {
     "data": {
      "text/plain": [
       "'Welcome to python'"
      ]
     },
     "execution_count": 9,
     "metadata": {},
     "output_type": "execute_result"
    }
   ],
   "source": [
    "#slicing\n",
    "string = \"Welcome to python\"\n",
    "string[:]"
   ]
  },
  {
   "cell_type": "code",
   "execution_count": 10,
   "id": "5702c61d-dddb-41fc-9a08-6a8552d7afc3",
   "metadata": {},
   "outputs": [
    {
     "data": {
      "text/plain": [
       "'Welcome '"
      ]
     },
     "execution_count": 10,
     "metadata": {},
     "output_type": "execute_result"
    }
   ],
   "source": [
    "string[0:8]"
   ]
  },
  {
   "cell_type": "code",
   "execution_count": 11,
   "id": "96b10fb1-9fed-434f-ac1b-3b9b5ed94985",
   "metadata": {},
   "outputs": [
    {
     "data": {
      "text/plain": [
       "'to '"
      ]
     },
     "execution_count": 11,
     "metadata": {},
     "output_type": "execute_result"
    }
   ],
   "source": [
    "string[8:11]"
   ]
  },
  {
   "cell_type": "code",
   "execution_count": 13,
   "id": "fce74c8c-dce7-4626-84be-e98aa34ffde6",
   "metadata": {},
   "outputs": [
    {
     "data": {
      "text/plain": [
       "'Good morning'"
      ]
     },
     "execution_count": 13,
     "metadata": {},
     "output_type": "execute_result"
    }
   ],
   "source": [
    "#capitalize()\n",
    "str = \"good morning\"\n",
    "str.capitalize()"
   ]
  },
  {
   "cell_type": "code",
   "execution_count": null,
   "id": "86951e20-6fb9-430e-b11e-ae2b822f6f40",
   "metadata": {},
   "outputs": [],
   "source": []
  },
  {
   "cell_type": "code",
   "execution_count": 14,
   "id": "b737ed29-7372-46d0-9178-514319403513",
   "metadata": {},
   "outputs": [
    {
     "data": {
      "text/plain": [
       "3"
      ]
     },
     "execution_count": 14,
     "metadata": {},
     "output_type": "execute_result"
    }
   ],
   "source": [
    "#count()\n",
    "str.count('o')"
   ]
  },
  {
   "cell_type": "code",
   "execution_count": 15,
   "id": "61a1acf1-e015-4bc3-bc73-1a3c4989b5c2",
   "metadata": {},
   "outputs": [
    {
     "data": {
      "text/plain": [
       "True"
      ]
     },
     "execution_count": 15,
     "metadata": {},
     "output_type": "execute_result"
    }
   ],
   "source": [
    "#startswith()\n",
    "str.startswith('go')"
   ]
  },
  {
   "cell_type": "code",
   "execution_count": 16,
   "id": "43b84f00-0262-4db0-add2-534cb08a54b2",
   "metadata": {},
   "outputs": [
    {
     "data": {
      "text/plain": [
       "True"
      ]
     },
     "execution_count": 16,
     "metadata": {},
     "output_type": "execute_result"
    }
   ],
   "source": [
    "#endswith()\n",
    "str.endswith('ing')"
   ]
  },
  {
   "cell_type": "code",
   "execution_count": null,
   "id": "ee8a3d10-425f-4c76-85c5-cb656fa6c32a",
   "metadata": {},
   "outputs": [],
   "source": []
  }
 ],
 "metadata": {
  "kernelspec": {
   "display_name": "Python 3 (ipykernel)",
   "language": "python",
   "name": "python3"
  },
  "language_info": {
   "codemirror_mode": {
    "name": "ipython",
    "version": 3
   },
   "file_extension": ".py",
   "mimetype": "text/x-python",
   "name": "python",
   "nbconvert_exporter": "python",
   "pygments_lexer": "ipython3",
   "version": "3.11.7"
  }
 },
 "nbformat": 4,
 "nbformat_minor": 5
}
